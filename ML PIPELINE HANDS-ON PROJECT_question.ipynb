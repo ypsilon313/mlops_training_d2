{
 "cells": [
  {
   "cell_type": "markdown",
   "id": "3182a14e",
   "metadata": {},
   "source": [
    "# ML PIPELINE HANDS-ON PROJECT\n",
    "\n",
    "GROUP NAME <br>\n",
    "GROUP MEMBER NAME: "
   ]
  },
  {
   "cell_type": "markdown",
   "id": "c77b3a80",
   "metadata": {},
   "source": [
    "## Section 1: Conduct simple data exploration and data analysis on the given dataset"
   ]
  },
  {
   "cell_type": "markdown",
   "id": "f88d5195",
   "metadata": {},
   "source": [
    "### 1)Display the number of attributes available in the dataset (exam_dataset.csv)?"
   ]
  },
  {
   "cell_type": "markdown",
   "id": "cba171fe",
   "metadata": {},
   "source": [
    "## 2)Find the dimension number of your dataset"
   ]
  },
  {
   "cell_type": "markdown",
   "id": "5c93bd21",
   "metadata": {},
   "source": [
    "### 3) Display the average of these attributes: ‘Age’, ‘Bonus’ and ‘Years atCompany’. Be sure to round your answer to 4 decimal places"
   ]
  },
  {
   "cell_type": "markdown",
   "id": "0ced0ae4",
   "metadata": {},
   "source": [
    "### 4) Find the minimum and maximum ‘Bonus’"
   ]
  },
  {
   "cell_type": "markdown",
   "id": "66847c61",
   "metadata": {},
   "source": [
    "### 5) What are the departments in this dataset?"
   ]
  },
  {
   "cell_type": "markdown",
   "id": "7701ea6e",
   "metadata": {},
   "source": [
    "### 6) Provide graphical visualization by plotting Histogram of ‘JobSatisfaction’ vs staff numbers’"
   ]
  },
  {
   "cell_type": "markdown",
   "id": "3ff2ef67",
   "metadata": {},
   "source": [
    "### 7.Find the correlation between ‘Bonus’ and ‘JobSatisfaction’"
   ]
  },
  {
   "cell_type": "markdown",
   "id": "9748e25f",
   "metadata": {},
   "source": [
    "### 8.Based on your findings, discuss briefly (you can either use comments/markdown to write your answer) on:"
   ]
  },
  {
   "cell_type": "markdown",
   "id": "bfa27906",
   "metadata": {},
   "source": [
    "- **Range of bonus at Company A** <br>\n",
    "    . <br>\n",
    "\n",
    "\n",
    "- **Most and Least Frequent JobSatisfaction at Company A** <br>\n",
    "   .   <br>\n",
    " \n",
    "\n",
    "- **Discuss your observation on the distribution of bonus values** <br>\n",
    "     <br>\n",
    "\n",
    "\n",
    "- **Is there a linear relationship between bonus and JobSatisfaction at the company??**<br>\n",
    "   ."
   ]
  },
  {
   "cell_type": "markdown",
   "id": "95589139",
   "metadata": {},
   "source": [
    "## B) Classification using Random Forest for: ‘Age’, ‘BusinessTravel’, ‘MonthlyIncome’ and ‘JobSatisfaction’ to predict ‘Attrition’. Sample steps are as below:”"
   ]
  },
  {
   "cell_type": "markdown",
   "id": "f9c3c0cf",
   "metadata": {},
   "source": [
    "### 1) Import necessary libraries"
   ]
  },
  {
   "cell_type": "markdown",
   "id": "82d4a79b",
   "metadata": {},
   "source": [
    "### 2) Import dataset"
   ]
  },
  {
   "cell_type": "markdown",
   "id": "699a86b7",
   "metadata": {},
   "source": [
    "### 3) Allocate the relevant attributes as input and output"
   ]
  },
  {
   "cell_type": "markdown",
   "id": "687c9851",
   "metadata": {},
   "source": [
    "### 4) Use LabelEncoder to encode categorical data"
   ]
  },
  {
   "cell_type": "markdown",
   "id": "5d4ac857",
   "metadata": {},
   "source": [
    "### 5) Split your data into training and test sets with the appropriate proportions"
   ]
  },
  {
   "cell_type": "markdown",
   "id": "de536859",
   "metadata": {},
   "source": [
    "### 6) Normalized your data using StandardScaler"
   ]
  },
  {
   "cell_type": "markdown",
   "id": "cf62f394",
   "metadata": {},
   "source": [
    "### 7) Fit the and predict results using the Naïve Bayes Classifier"
   ]
  },
  {
   "cell_type": "markdown",
   "id": "5c9a2674",
   "metadata": {},
   "source": [
    "### 8) Evaluate your results using confusion matrix and calculate the prediction accuracy"
   ]
  },
  {
   "cell_type": "markdown",
   "id": "a6e699a0",
   "metadata": {},
   "source": [
    "### 9) Discuss your results and findings"
   ]
  },
  {
   "cell_type": "markdown",
   "id": "1e360ed5",
   "metadata": {},
   "source": [
    "- our main concern is to find the classification of attrition rate by considering the Age,BusinessTravel  MonthlyIncome and JobSatisfaction. \n",
    "- Our **independent** variables `Age`, `BusinessTravel`, `MonthlyIncome` and `JobSatisfaction`\n",
    "- Our **dependent** variable: `Attrition`\n",
    "- One of the attributes which is `Business Travel` consist of categorical data. Thus we encode the attribute before applying the model.\n",
    "- Using Random Forest Classifier model, we used 80% of the observations (train set) and fit in our model. While the remaining 20% are used to test the accuracy of the model.\n",
    "- The model has 79.93197278911565% accuracy.\n"
   ]
  },
  {
   "cell_type": "markdown",
   "id": "1fef9d8f",
   "metadata": {},
   "source": [
    "## Section 3 : Clustering comparison between K-Means and DBSCAN"
   ]
  },
  {
   "cell_type": "markdown",
   "id": "439d097b",
   "metadata": {},
   "source": [
    "## A) Perform K-Means clustering (use WCSS to help find best K value) on the givendataset, display clustering results with graphical visualization, provide any necessarycomments and discussions."
   ]
  },
  {
   "cell_type": "markdown",
   "id": "2d35c6f7",
   "metadata": {},
   "source": [
    "### 1) Import necessary libraries"
   ]
  },
  {
   "cell_type": "markdown",
   "id": "1143f90a",
   "metadata": {},
   "source": [
    "### 2) Import dataset"
   ]
  },
  {
   "cell_type": "markdown",
   "id": "6163a641",
   "metadata": {},
   "source": [
    "#### Discussion \n",
    "\n",
    "- Based on WCSS, the optimized number of clusters is 4.\n",
    "- The silhouette score using KMeans is:  0.4329118241119466\n"
   ]
  },
  {
   "cell_type": "markdown",
   "id": "84fafa22",
   "metadata": {},
   "source": [
    "## 2) Perform DBSCAN clustering (use knee locator to help find optimal parameter) on thegiven dataset, display clustering results with graphical visualization, provide anynecessary comments and discussions."
   ]
  },
  {
   "cell_type": "markdown",
   "id": "9d74c1aa",
   "metadata": {},
   "source": [
    "#### Discussion \n",
    "- The optimized parameter for knee is .\n",
    "- The silhouette score using DBSCAN is:  ."
   ]
  },
  {
   "cell_type": "markdown",
   "id": "b3047201",
   "metadata": {},
   "source": [
    "## 3) Conduct comparison studies on the two techniques (K-Means and DBSCAN), with graphical visualization comparisons, discuss your results and decide on whether:"
   ]
  },
  {
   "cell_type": "markdown",
   "id": "3d2b669d",
   "metadata": {},
   "source": [
    "- Graph 1 and Graph 2 shown how the data being clusterized by K-mean and DBSCAN. \n",
    "- Generally silhouette score use to measure the accuracy of model in clustering the data. Basically, The silhouette score of 1 means that the clusters are very dense and nicely separated. The score of 0 means that clusters are overlapping. The score of less than 0 means that data belonging to clusters may be wrong/incorrect.\n",
    "- For this data, we find that the K-Mean have 0.4329118241119466 silhouette score, meanwhile the DBSCAN have 0.2144392865052958. silhouette score.\n",
    "- General understnding of Silhouette score justify that the `K-Means is the better clustering technique for this dataset`\n",
    "- On the other hand based on the figures plotted, the 2 clusters from DBSCAN is best-suited to represent the sinusoidal-like behaviour of the data in comparison with output from K-Means where there are 4 clusters.\n",
    "- Hence, `There’s no clear distinction between the two techniques for this dataset`"
   ]
  },
  {
   "cell_type": "code",
   "execution_count": null,
   "id": "1352e712",
   "metadata": {},
   "outputs": [],
   "source": []
  }
 ],
 "metadata": {
  "kernelspec": {
   "display_name": "Python 3 (ipykernel)",
   "language": "python",
   "name": "python3"
  },
  "language_info": {
   "codemirror_mode": {
    "name": "ipython",
    "version": 3
   },
   "file_extension": ".py",
   "mimetype": "text/x-python",
   "name": "python",
   "nbconvert_exporter": "python",
   "pygments_lexer": "ipython3",
   "version": "3.9.13"
  }
 },
 "nbformat": 4,
 "nbformat_minor": 5
}
